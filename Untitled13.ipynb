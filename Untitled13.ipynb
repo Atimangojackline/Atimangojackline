{
  "nbformat": 4,
  "nbformat_minor": 0,
  "metadata": {
    "colab": {
      "provenance": [],
      "authorship_tag": "ABX9TyM7PJ0ImfnswMh/KDes0vqz",
      "include_colab_link": true
    },
    "kernelspec": {
      "name": "python3",
      "display_name": "Python 3"
    },
    "language_info": {
      "name": "python"
    }
  },
  "cells": [
    {
      "cell_type": "markdown",
      "metadata": {
        "id": "view-in-github",
        "colab_type": "text"
      },
      "source": [
        "<a href=\"https://colab.research.google.com/github/Atimangojackline/Atimangojackline/blob/main/Untitled13.ipynb\" target=\"_parent\"><img src=\"https://colab.research.google.com/assets/colab-badge.svg\" alt=\"Open In Colab\"/></a>"
      ]
    },
    {
      "cell_type": "code",
      "execution_count": 2,
      "metadata": {
        "colab": {
          "base_uri": "https://localhost:8080/"
        },
        "id": "FBmFI8WQyAWt",
        "outputId": "32911f9f-3ec3-476e-b881-869248a8c088"
      },
      "outputs": [
        {
          "output_type": "stream",
          "name": "stdout",
          "text": [
            "This is/python/programming\n"
          ]
        }
      ],
      "source": [
        "x= \"This is/\"\"python/\"\"programming\"\n",
        "print(x)"
      ]
    },
    {
      "cell_type": "code",
      "source": [
        "print(\"\\\"jackline\\\" atimango\")"
      ],
      "metadata": {
        "colab": {
          "base_uri": "https://localhost:8080/"
        },
        "id": "1rIv1wCpykww",
        "outputId": "c1d736e4-a012-4b14-b559-5e66b456c411"
      },
      "execution_count": 4,
      "outputs": [
        {
          "output_type": "stream",
          "name": "stdout",
          "text": [
            "\"jackline\" atimango\n"
          ]
        }
      ]
    },
    {
      "cell_type": "code",
      "source": [
        "print(\"He's a Doctor\")"
      ],
      "metadata": {
        "colab": {
          "base_uri": "https://localhost:8080/"
        },
        "id": "2zVqGrJj0CjU",
        "outputId": "b58820f4-d38a-45ce-c674-e669e031e2f4"
      },
      "execution_count": 5,
      "outputs": [
        {
          "output_type": "stream",
          "name": "stdout",
          "text": [
            "He's a Doctor\n"
          ]
        }
      ]
    },
    {
      "cell_type": "code",
      "source": [
        "print(\"He\\'s a doctor\")"
      ],
      "metadata": {
        "colab": {
          "base_uri": "https://localhost:8080/"
        },
        "id": "Wl6Mf4NV0qAD",
        "outputId": "1829dece-694f-4a87-86f2-b0de924f56f5"
      },
      "execution_count": 6,
      "outputs": [
        {
          "output_type": "stream",
          "name": "stdout",
          "text": [
            "He's a doctor\n"
          ]
        }
      ]
    },
    {
      "cell_type": "code",
      "source": [
        "print(\"atimango \\n jackline\")"
      ],
      "metadata": {
        "colab": {
          "base_uri": "https://localhost:8080/"
        },
        "id": "I_sKWy0P07xb",
        "outputId": "655b8610-c1cd-440c-fac6-46813da2cb92"
      },
      "execution_count": 7,
      "outputs": [
        {
          "output_type": "stream",
          "name": "stdout",
          "text": [
            "atimango \n",
            " jackline\n"
          ]
        }
      ]
    },
    {
      "cell_type": "code",
      "source": [
        "x=[\"john\", \"mary\", \"david\", \"adam\"]\n",
        "y=input(\"enter name\")\n",
        "z=int(input(\"enter index number\"))\n",
        "print()"
      ],
      "metadata": {
        "colab": {
          "base_uri": "https://localhost:8080/"
        },
        "id": "00V9uefQ2Tfy",
        "outputId": "b84790aa-c39d-4549-f472-7eb4b4e0d224"
      },
      "execution_count": 15,
      "outputs": [
        {
          "output_type": "stream",
          "name": "stdout",
          "text": [
            "enter namejohn\n",
            "enter index number2\n",
            "\n"
          ]
        }
      ]
    },
    {
      "cell_type": "code",
      "source": [
        "x=[\"john\", \"mary\", \"david\", \"adam\"]\n",
        "z=int(input(\"enter index number\"))\n",
        "n=input(\"enter name\")\n",
        "x.insert(z,n)"
      ],
      "metadata": {
        "colab": {
          "base_uri": "https://localhost:8080/"
        },
        "id": "2-IfB7QE5lgu",
        "outputId": "1d84147e-07bd-4215-bcc9-dcadcc61bc87"
      },
      "execution_count": 16,
      "outputs": [
        {
          "name": "stdout",
          "output_type": "stream",
          "text": [
            "enter index number3\n",
            "enter namejack\n"
          ]
        }
      ]
    },
    {
      "cell_type": "code",
      "source": [
        "print(x)"
      ],
      "metadata": {
        "colab": {
          "base_uri": "https://localhost:8080/"
        },
        "id": "WtHvo-Wg8MOa",
        "outputId": "f42d4757-85cc-4353-c710-40eb2dbf4030"
      },
      "execution_count": 17,
      "outputs": [
        {
          "output_type": "stream",
          "name": "stdout",
          "text": [
            "['john', 'mary', 'david', 'jack', 'adam']\n"
          ]
        }
      ]
    },
    {
      "cell_type": "code",
      "source": [
        "def atimango():\n",
        "  z=int(input(\"enter index number\"))\n",
        "  n=input(\"enter name\")\n",
        "  x.insert(z,n)\n",
        "  "
      ],
      "metadata": {
        "id": "Wdns-oAx8vF5"
      },
      "execution_count": 24,
      "outputs": []
    },
    {
      "cell_type": "code",
      "source": [
        "def atimango():\n",
        "  x=int(input(\"enter number\"))\n",
        "  y=input(\"enter name\")\n",
        "  print(x,y)"
      ],
      "metadata": {
        "id": "R_BTTzT9-kF7"
      },
      "execution_count": 39,
      "outputs": []
    },
    {
      "cell_type": "code",
      "source": [
        "atimango()"
      ],
      "metadata": {
        "colab": {
          "base_uri": "https://localhost:8080/"
        },
        "id": "IO9rtrZwAjzt",
        "outputId": "9cfb61a7-a5d3-40f2-eae1-e1d7e63710a4"
      },
      "execution_count": 40,
      "outputs": [
        {
          "output_type": "stream",
          "name": "stdout",
          "text": [
            "enter number8\n",
            "enter namejoan\n",
            "8 joan\n"
          ]
        }
      ]
    },
    {
      "cell_type": "code",
      "source": [
        "def atimango():\n",
        "  x=int(input(\"entre x\"))\n",
        "  y=int(input(\"enter y\"))\n",
        "  print(x*y)\n",
        "  print(x-y)\n",
        "  print(x/y)\n",
        "  print(x+y)"
      ],
      "metadata": {
        "id": "Zp9jj9rmA2jh"
      },
      "execution_count": 33,
      "outputs": []
    },
    {
      "cell_type": "code",
      "source": [
        "atimango()"
      ],
      "metadata": {
        "colab": {
          "base_uri": "https://localhost:8080/"
        },
        "id": "BmIR4Oy1CMsS",
        "outputId": "6f79bf0d-7862-459d-ff56-fdc0b5a28670"
      },
      "execution_count": 35,
      "outputs": [
        {
          "output_type": "stream",
          "name": "stdout",
          "text": [
            "entre x5\n",
            "enter y10\n",
            "50\n",
            "-5\n",
            "0.5\n",
            "15\n"
          ]
        }
      ]
    },
    {
      "cell_type": "code",
      "source": [
        "def atimango(a,b):\n",
        "  print(a*b)\n"
      ],
      "metadata": {
        "id": "yFv-7M4hDP0J"
      },
      "execution_count": 48,
      "outputs": []
    },
    {
      "cell_type": "code",
      "source": [
        "def dog():\n",
        "  x=int(input(\"enter x\"))\n",
        "  y=int(input(\"enter y\"))\n",
        "  print()"
      ],
      "metadata": {
        "id": "TPuhBc7_En0D"
      },
      "execution_count": null,
      "outputs": []
    }
  ]
}