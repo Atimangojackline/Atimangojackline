{
  "nbformat": 4,
  "nbformat_minor": 0,
  "metadata": {
    "colab": {
      "provenance": [],
      "authorship_tag": "ABX9TyMK7hVkxdSAmVHizQbRpnOA",
      "include_colab_link": true
    },
    "kernelspec": {
      "name": "python3",
      "display_name": "Python 3"
    },
    "language_info": {
      "name": "python"
    }
  },
  "cells": [
    {
      "cell_type": "markdown",
      "metadata": {
        "id": "view-in-github",
        "colab_type": "text"
      },
      "source": [
        "<a href=\"https://colab.research.google.com/github/Atimangojackline/Atimangojackline/blob/main/Tax_amount.ipynb\" target=\"_parent\"><img src=\"https://colab.research.google.com/assets/colab-badge.svg\" alt=\"Open In Colab\"/></a>"
      ]
    },
    {
      "cell_type": "code",
      "execution_count": 1,
      "metadata": {
        "colab": {
          "base_uri": "https://localhost:8080/"
        },
        "id": "k2uGOo0YGUby",
        "outputId": "68f3c637-be3a-4dca-e91e-80d85eff4d1c"
      },
      "outputs": [
        {
          "name": "stdout",
          "output_type": "stream",
          "text": [
            "Enter Gross Salary: 300000\n",
            "Enter HRA: 15000\n",
            "Enter Insurance: 5000\n"
          ]
        }
      ],
      "source": [
        "gross_salary = float(input(\"Enter Gross Salary: \"))\n",
        "hra = float(input(\"Enter HRA: \"))\n",
        "insurance = float(input(\"Enter Insurance: \"))"
      ]
    },
    {
      "cell_type": "code",
      "source": [
        "basic_salary = min(gross_salary - hra, gross_salary - insurance)"
      ],
      "metadata": {
        "id": "sZYyQIOCGiSH"
      },
      "execution_count": 2,
      "outputs": []
    },
    {
      "cell_type": "code",
      "source": [
        "non_exempt_amount = max(basic_salary - 0.1 * basic_salary, 0)\n",
        "taxable_amount = max(non_exempt_amount - 250000, 0)"
      ],
      "metadata": {
        "id": "6Ojq6Ji-HXSG"
      },
      "execution_count": 3,
      "outputs": []
    },
    {
      "cell_type": "code",
      "source": [
        "if taxable_amount == 0:\n",
        "    tax_amount = 0\n",
        "else:\n",
        "    tax_amount = taxable_amount * 0.1"
      ],
      "metadata": {
        "id": "lrSr40_aHqQ3"
      },
      "execution_count": 4,
      "outputs": []
    },
    {
      "cell_type": "code",
      "source": [
        "print(\"Tax Amount: Rs.\", tax_amount)"
      ],
      "metadata": {
        "colab": {
          "base_uri": "https://localhost:8080/"
        },
        "id": "9xXBiC4mIFiI",
        "outputId": "9724d73c-42a7-4d32-9df4-13c61ae049be"
      },
      "execution_count": 5,
      "outputs": [
        {
          "output_type": "stream",
          "name": "stdout",
          "text": [
            "Tax Amount: Rs. 650.0\n"
          ]
        }
      ]
    }
  ]
}