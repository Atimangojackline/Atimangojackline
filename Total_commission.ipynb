{
  "nbformat": 4,
  "nbformat_minor": 0,
  "metadata": {
    "colab": {
      "provenance": [],
      "authorship_tag": "ABX9TyP97xEA1KeJRkPimA9fy2D/",
      "include_colab_link": true
    },
    "kernelspec": {
      "name": "python3",
      "display_name": "Python 3"
    },
    "language_info": {
      "name": "python"
    }
  },
  "cells": [
    {
      "cell_type": "markdown",
      "metadata": {
        "id": "view-in-github",
        "colab_type": "text"
      },
      "source": [
        "<a href=\"https://colab.research.google.com/github/Atimangojackline/Atimangojackline/blob/main/Total_commission.ipynb\" target=\"_parent\"><img src=\"https://colab.research.google.com/assets/colab-badge.svg\" alt=\"Open In Colab\"/></a>"
      ]
    },
    {
      "cell_type": "code",
      "execution_count": 1,
      "metadata": {
        "colab": {
          "base_uri": "https://localhost:8080/"
        },
        "id": "QDLq7dh72aJF",
        "outputId": "a454b490-63e0-49a3-f616-9d26fbb4292f"
      },
      "outputs": [
        {
          "name": "stdout",
          "output_type": "stream",
          "text": [
            "Enter total sales 100000000\n",
            "Enter total company revenue 1000000000\n",
            "Enter no of leads generated 100\n"
          ]
        }
      ],
      "source": [
        "total_sale_amount= int(input(\"Enter total sales \"))\n",
        "Total_company_revenue=int(input(\"Enter total company revenue\"))\n",
        "No_of_leads_generated=int(input(\"Enter no of leads generated\"))\n",
        "\n"
      ]
    },
    {
      "cell_type": "code",
      "source": [
        "if total_sale_amount <=10000000:\n",
        "   agency_commission= total_sale_amount*0.03\n",
        "else:\n",
        "    agency_commission= (10000000*0.03)+((total_sale_amount)*0.05)\n",
        "    print(\"agency_commission\")"
      ],
      "metadata": {
        "colab": {
          "base_uri": "https://localhost:8080/"
        },
        "id": "xn9wP_v-3rde",
        "outputId": "05b3f29f-128c-4aac-bba0-33088699d0b2"
      },
      "execution_count": 2,
      "outputs": [
        {
          "output_type": "stream",
          "name": "stdout",
          "text": [
            "agency_commission\n"
          ]
        }
      ]
    },
    {
      "cell_type": "code",
      "source": [
        "if Total_company_revenue <=1000000000:\n",
        "   company_commission =Total_company_revenue*0.0005\n",
        "else:\n",
        "    company_commission=(1000000000*0.0005)+((Total_company_revenue-1000000000)*0.0007)\n",
        "    print(\"company_commission\")"
      ],
      "metadata": {
        "id": "VLqXFj1f5uxc"
      },
      "execution_count": 12,
      "outputs": []
    },
    {
      "cell_type": "code",
      "source": [
        "lead_commission = 0\n",
        "if No_of_leads_generated > 0:\n",
        "    for i in range(1, No_of_leads_generated+1):\n",
        "        lead_commission += i * 100"
      ],
      "metadata": {
        "id": "hfZIA95l9ci0"
      },
      "execution_count": 13,
      "outputs": []
    },
    {
      "cell_type": "code",
      "source": [
        "total_commission=agency_commission + company_commission + lead_commission"
      ],
      "metadata": {
        "id": "DO3xgu_XGTHh"
      },
      "execution_count": 14,
      "outputs": []
    },
    {
      "cell_type": "code",
      "source": [
        "print(\"Agency Commission: {}\".format(agency_commission))\n",
        "print(\"Company Commission: {}\".format(company_commission))\n",
        "print(\"Lead Commission: {}\".format(lead_commission))\n",
        "print(\"Total Commission: {}\".format(total_commission))"
      ],
      "metadata": {
        "colab": {
          "base_uri": "https://localhost:8080/"
        },
        "id": "xLRv8Z88Gq7V",
        "outputId": "4c9b029c-46c8-4f73-83b1-3746024c36d4"
      },
      "execution_count": 15,
      "outputs": [
        {
          "output_type": "stream",
          "name": "stdout",
          "text": [
            "Agency Commission: 5300000.0\n",
            "Company Commission: 500000.0\n",
            "Lead Commission: 505000\n",
            "Total Commission: 6305000.0\n"
          ]
        }
      ]
    }
  ]
}